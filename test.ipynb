{
 "cells": [
  {
   "cell_type": "code",
   "execution_count": 18,
   "metadata": {},
   "outputs": [
    {
     "data": {
      "application/vnd.jupyter.widget-view+json": {
       "model_id": "5dd8c572ae8e4d44b76e6438418596bc",
       "version_major": 2,
       "version_minor": 0
      },
      "text/plain": [
       "Renderer(camera=PerspectiveCamera(children=(DirectionalLight(color='#cccccc', intensity=0.5, position=(-3.0, 5…"
      ]
     },
     "metadata": {},
     "output_type": "display_data"
    },
    {
     "name": "stderr",
     "output_type": "stream",
     "text": [
      "/home/user/anaconda3/lib/python3.6/site-packages/scipy/sparse/compressed.py:746: SparseEfficiencyWarning: Changing the sparsity structure of a csr_matrix is expensive. lil_matrix is more efficient.\n",
      "  SparseEfficiencyWarning)\n"
     ]
    },
    {
     "name": "stdout",
     "output_type": "stream",
     "text": [
      "eigen values:\n",
      "[-17.18855194+0.j -17.1616714 +0.j -17.16843804+0.j -14.23441634+0.j\n",
      " -14.20834528+0.j -14.208326  +0.j]\n",
      "eigen vectors:\n",
      "(1598, 6)\n"
     ]
    }
   ],
   "source": [
    "import scipy.sparse.linalg as lin \n",
    "from functools import reduce\n",
    "import numpy as np\n",
    "import importlib\n",
    "import solution\n",
    "importlib.reload(solution)\n",
    "\n",
    "\n",
    "mesh = solution.Mesh.fromobj(\"teddy.obj\")\n",
    "mesh.draw()\n",
    "mesh.LaplaceOperator()\n",
    "L = mesh.laplace_operator\n",
    "e_values, e_vectors = lin.eigs(L)\n",
    "print(f'eigen values:\\n{e_values}')\n",
    "print(f'eigen vectors:\\n{e_vectors.shape}')"
   ]
  },
  {
   "cell_type": "code",
   "execution_count": 21,
   "metadata": {},
   "outputs": [],
   "source": [
    "def kernel(x, y, t):\n",
    "    integral = 0\n",
    "    for v, f in zip(e_values.astype('float64'), e_vectors.T.astype('float64')):\n",
    "        ex = np.exp(t * v)\n",
    "        integral +=  ex * f[x] * f[y]\n",
    "    return integral"
   ]
  },
  {
   "cell_type": "code",
   "execution_count": 22,
   "metadata": {},
   "outputs": [],
   "source": [
    "def heat_function(x, t, f):\n",
    "    integral = 0\n",
    "    for y in range(mesh.n):\n",
    "        integral += kernel(x, y, t)*f[y]\n",
    "\n",
    "    return integral"
   ]
  },
  {
   "cell_type": "code",
   "execution_count": 33,
   "metadata": {},
   "outputs": [
    {
     "name": "stdout",
     "output_type": "stream",
     "text": [
      "-0.1\n"
     ]
    },
    {
     "name": "stderr",
     "output_type": "stream",
     "text": [
      "/home/user/anaconda3/lib/python3.6/site-packages/ipykernel_launcher.py:3: ComplexWarning: Casting complex values to real discards the imaginary part\n",
      "  This is separate from the ipykernel package so we can avoid doing imports until\n"
     ]
    },
    {
     "data": {
      "application/vnd.jupyter.widget-view+json": {
       "model_id": "22dccd52e6e342fab5474006ac05e330",
       "version_major": 2,
       "version_minor": 0
      },
      "text/plain": [
       "Renderer(camera=PerspectiveCamera(children=(DirectionalLight(color='#cccccc', intensity=0.5, position=(-3.0, 5…"
      ]
     },
     "metadata": {},
     "output_type": "display_data"
    }
   ],
   "source": [
    "f_init = np.array(list(np.arange(mesh.n)))\n",
    "f_init = 10*np.sin(f_init/7)-5\n",
    "heat = np.zeros(mesh.n)\n",
    "t = -0.1\n",
    "print(t)\n",
    "for x in range(mesh.n):\n",
    "    heat[x] = heat_function(x, t, f_init)\n",
    "mesh.draw(heat)"
   ]
  },
  {
   "cell_type": "code",
   "execution_count": 29,
   "metadata": {
    "scrolled": true
   },
   "outputs": [
    {
     "name": "stdout",
     "output_type": "stream",
     "text": [
      "0.005\n"
     ]
    },
    {
     "name": "stderr",
     "output_type": "stream",
     "text": [
      "/home/user/anaconda3/lib/python3.6/site-packages/ipykernel_launcher.py:3: ComplexWarning: Casting complex values to real discards the imaginary part\n",
      "  This is separate from the ipykernel package so we can avoid doing imports until\n"
     ]
    },
    {
     "data": {
      "application/vnd.jupyter.widget-view+json": {
       "model_id": "9eda3ba387274321b93a35e62b1ae5d4",
       "version_major": 2,
       "version_minor": 0
      },
      "text/plain": [
       "Renderer(camera=PerspectiveCamera(children=(DirectionalLight(color='#cccccc', intensity=0.5, position=(-3.0, 5…"
      ]
     },
     "metadata": {},
     "output_type": "display_data"
    }
   ],
   "source": [
    "# Heat signature starting here\n",
    "heat = np.zeros(mesh.n)\n",
    "t = 0.005\n",
    "print(t)\n",
    "for x in range(mesh.n):\n",
    "    ker = kernel(x, x, t)\n",
    "    heat[x] = ker        \n",
    "\n",
    "mesh.draw(heat)"
   ]
  }
 ],
 "metadata": {
  "kernelspec": {
   "display_name": "Python 3",
   "language": "python",
   "name": "python3"
  },
  "language_info": {
   "codemirror_mode": {
    "name": "ipython",
    "version": 3
   },
   "file_extension": ".py",
   "mimetype": "text/x-python",
   "name": "python",
   "nbconvert_exporter": "python",
   "pygments_lexer": "ipython3",
   "version": "3.6.5"
  }
 },
 "nbformat": 4,
 "nbformat_minor": 1
}
