{
 "cells": [
  {
   "cell_type": "markdown",
   "metadata": {},
   "source": [
    "$1$ This is a test notebook."
   ]
  },
  {
   "cell_type": "code",
   "execution_count": 14,
   "metadata": {},
   "outputs": [
    {
     "data": {
      "application/vnd.jupyter.widget-view+json": {
       "model_id": "f5975e928e824bf3b318077d62309059",
       "version_major": 2,
       "version_minor": 0
      },
      "text/plain": [
       "Renderer(camera=PerspectiveCamera(children=(DirectionalLight(color='#cccccc', intensity=0.5, position=(-3.0, 5…"
      ]
     },
     "metadata": {},
     "output_type": "display_data"
    },
    {
     "name": "stdout",
     "output_type": "stream",
     "text": [
      "eigen values:\n",
      "[-15952.33594183+0.j  -5828.54633171+0.j  -5089.60339916+0.j\n",
      "  -5062.35045865+0.j  -3703.97302547+0.j  -3398.5337739 +0.j]\n",
      "eigen vectors:\n",
      "[[-1.72000437e-18+0.j  3.97580902e-18+0.j -3.67143568e-18+0.j\n",
      "  -1.78854545e-18+0.j -1.55064106e-19+0.j -8.30267980e-19+0.j]\n",
      " [-3.64338560e-18+0.j  7.49101146e-18+0.j -3.71579454e-18+0.j\n",
      "  -6.65375153e-18+0.j -2.60065857e-20+0.j -4.18676181e-18+0.j]\n",
      " [-4.57091156e-18+0.j  1.09163028e-17+0.j -8.27029692e-18+0.j\n",
      "  -1.29882367e-17+0.j  5.86167780e-18+0.j -1.28595794e-17+0.j]\n",
      " ...\n",
      " [-8.73088677e-19+0.j -3.11508683e-18+0.j  8.06957466e-18+0.j\n",
      "   3.30477822e-18+0.j -4.72599197e-18+0.j  8.71682569e-18+0.j]\n",
      " [ 2.59204721e-18+0.j -3.58484423e-18+0.j  4.95394868e-18+0.j\n",
      "  -1.54884602e-18+0.j  1.54376448e-18+0.j  9.98941502e-18+0.j]\n",
      " [ 2.47683454e-18+0.j -1.91654763e-18+0.j -6.58663571e-18+0.j\n",
      "   3.51540106e-18+0.j  4.25396430e-18+0.j -4.10049892e-18+0.j]]\n"
     ]
    }
   ],
   "source": [
    "import scipy.sparse.linalg as lin\n",
    "import numpy as np\n",
    "import importlib\n",
    "import solution\n",
    "import math\n",
    "importlib.reload(solution)\n",
    "\n",
    "\n",
    "mesh = solution.Mesh.fromobj(\"teddy.obj\")\n",
    "mesh.draw()\n",
    "mesh.LaplaceOperator()\n",
    "L = mesh.laplace_operator\n",
    "e_values, e_vectors = lin.eigs(L)\n",
    "print(f'eigen values:\\n{e_values}')\n",
    "print(f'eigen vectors:\\n{e_vectors}')"
   ]
  }
 ],
 "metadata": {
  "kernelspec": {
   "display_name": "Python 3",
   "language": "python",
   "name": "python3"
  },
  "language_info": {
   "codemirror_mode": {
    "name": "ipython",
    "version": 3
   },
   "file_extension": ".py",
   "mimetype": "text/x-python",
   "name": "python",
   "nbconvert_exporter": "python",
   "pygments_lexer": "ipython3",
   "version": "3.6.7"
  }
 },
 "nbformat": 4,
 "nbformat_minor": 1
}
