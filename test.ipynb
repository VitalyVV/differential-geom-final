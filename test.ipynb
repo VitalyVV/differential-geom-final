{
 "cells": [
  {
   "cell_type": "markdown",
   "metadata": {},
   "source": [
    "$1$ This is a test notebook."
   ]
  },
  {
   "cell_type": "code",
   "execution_count": 10,
   "metadata": {},
   "outputs": [
    {
     "data": {
      "text/plain": [
       "Renderer(camera=PerspectiveCamera(children=(DirectionalLight(color='#cccccc', intensity=0.5, position=(-3.0, 5…"
      ]
     },
     "metadata": {},
     "output_type": "display_data"
    },
    {
     "name": "stdout",
     "output_type": "stream",
     "text": [
      "eigen values:\n",
      "[-15952.33594183+0.j  -5828.54633171+0.j  -5089.60339916+0.j\n",
      "  -5062.35045865+0.j  -3703.97302547+0.j  -3398.5337739 +0.j]\n",
      "eigen vectors:\n",
      "[[-2.30704601e-18+0.j  4.09710256e-18+0.j  1.06997592e-18+0.j\n",
      "  -3.76461807e-18+0.j -5.00115448e-18+0.j  1.61456172e-18+0.j]\n",
      " [ 1.20832966e-17+0.j -2.42473921e-17+0.j -3.30469505e-18+0.j\n",
      "   2.03052502e-17+0.j  2.52645199e-17+0.j -7.11076897e-18+0.j]\n",
      " [-6.16333742e-18+0.j  1.69337373e-17+0.j  1.43487534e-18+0.j\n",
      "  -1.63961983e-17+0.j -2.67174292e-17+0.j  6.82555348e-18+0.j]\n",
      " ...\n",
      " [ 9.02491349e-19+0.j -1.86304227e-18+0.j -2.76784967e-19+0.j\n",
      "   3.45305612e-18+0.j  5.12890973e-18+0.j -1.48647265e-18+0.j]\n",
      " [-2.46512021e-18+0.j  2.94685282e-18+0.j  7.80130785e-19+0.j\n",
      "  -6.35530120e-19+0.j  2.33972407e-18+0.j -1.65483813e-19+0.j]\n",
      " [ 4.83171323e-18+0.j -1.83750967e-18+0.j  6.90046285e-19+0.j\n",
      "   7.97301867e-18+0.j  4.92843128e-18+0.j -2.73490564e-18+0.j]]\n"
     ]
    }
   ],
   "source": [
    "import scipy.sparse.linalg as lin \n",
    "from functools import reduce\n",
    "import numpy as np\n",
    "import importlib\n",
    "import solution\n",
    "import math\n",
    "importlib.reload(solution)\n",
    "\n",
    "\n",
    "mesh = solution.Mesh.fromobj(\"teddy.obj\")\n",
    "mesh.draw()\n",
    "mesh.LaplaceOperator()\n",
    "L = mesh.laplace_operator\n",
    "e_values, e_vectors = lin.eigs(L)\n",
    "print(f'eigen values:\\n{e_values}')\n",
    "print(f'eigen vectors:\\n{e_vectors}')"
   ]
  },
  {
   "cell_type": "code",
   "execution_count": 13,
   "metadata": {},
   "outputs": [],
   "source": [
    "def basis(f, e_vect):\n",
    "    return reduce(lambda x, y: x + np.dot(y, f)/np.dot(y, y) * y, e_vect)"
   ]
  },
  {
   "cell_type": "code",
   "execution_count": 14,
   "metadata": {},
   "outputs": [
    {
     "name": "stdout",
     "output_type": "stream",
     "text": [
      "function [1. 1. 1. 1. 1. 1.]\n",
      "basis:\n",
      "[211.97242925+0.j -37.83200796+0.j 110.52337699+0.j 247.90520177+0.j\n",
      " 471.00518563+0.j -15.11872205+0.j]\n"
     ]
    }
   ],
   "source": [
    "fun = np.ones(e_values.shape)\n",
    "print(f'function {fun}')\n",
    "print(f'basis:\\n{basis(fun, e_vectors)}')"
   ]
  },
  {
   "cell_type": "code",
   "execution_count": null,
   "metadata": {},
   "outputs": [],
   "source": [
    "def kernel(t, x, y):\n",
    "        integral = 0\n",
    "\n",
    "        for v, f in zip(eigenvalues, eigenfunctions):\n",
    "                integral += np.exp(-t * v) * f(x) * f(y)\n",
    "        return integral\n"
   ]
  },
  {
   "cell_type": "code",
   "execution_count": null,
   "metadata": {},
   "outputs": [],
   "source": [
    "def heat_function(t, x, f):\n",
    "        integral = 0\n",
    "        for y in range(mesh.n - 1):\n",
    "                integral += kernel(t, x, y)*f[y]\n",
    "        return integral\n"
   ]
  }
 ],
 "metadata": {
  "kernelspec": {
   "display_name": "Python 3",
   "language": "python",
   "name": "python3"
  },
  "language_info": {
   "codemirror_mode": {
    "name": "ipython",
    "version": 3
   },
   "file_extension": ".py",
   "mimetype": "text/x-python",
   "name": "python",
   "nbconvert_exporter": "python",
   "pygments_lexer": "ipython3",
   "version": "3.6.7"
  }
 },
 "nbformat": 4,
 "nbformat_minor": 1
}
